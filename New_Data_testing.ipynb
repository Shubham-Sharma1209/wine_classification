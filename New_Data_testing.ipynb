{
  "nbformat": 4,
  "nbformat_minor": 0,
  "metadata": {
    "colab": {
      "name": "New_Data_testing.ipynb",
      "provenance": [],
      "collapsed_sections": [],
      "authorship_tag": "ABX9TyM7kd5nXx0YKQpbRQ8gbVqF",
      "include_colab_link": true
    },
    "kernelspec": {
      "name": "python3",
      "display_name": "Python 3"
    },
    "language_info": {
      "name": "python"
    }
  },
  "cells": [
    {
      "cell_type": "markdown",
      "metadata": {
        "id": "view-in-github",
        "colab_type": "text"
      },
      "source": [
        "<a href=\"https://colab.research.google.com/github/Shubham-Sharma1209/wine_classification_Data_Science/blob/main/New_Data_testing.ipynb\" target=\"_parent\"><img src=\"https://colab.research.google.com/assets/colab-badge.svg\" alt=\"Open In Colab\"/></a>"
      ]
    },
    {
      "cell_type": "code",
      "execution_count": 21,
      "metadata": {
        "id": "NlIRptPWexFa"
      },
      "outputs": [],
      "source": [
        "import pandas as pd\n",
        "import numpy as np\n",
        "import seaborn as sns\n",
        "import matplotlib.pyplot as plt\n",
        "%matplotlib inline\n",
        "\n",
        "from sklearn.model_selection import train_test_split\n",
        "from sklearn.ensemble import ExtraTreesClassifier\n",
        "from sklearn.metrics import accuracy_score\n",
        "import warnings\n",
        "warnings.filterwarnings(\"ignore\")"
      ]
    },
    {
      "cell_type": "code",
      "source": [
        "df = pd.read_csv('/content/winequalityN.csv')"
      ],
      "metadata": {
        "id": "gmfhGdKTgRaT"
      },
      "execution_count": 15,
      "outputs": []
    },
    {
      "cell_type": "code",
      "source": [
        "df = df.dropna(how='any',axis=0) \n",
        "\n",
        "x = df.drop(['quality','type'],axis=1)\n",
        "y = df['quality']"
      ],
      "metadata": {
        "id": "PPV3uWTVgWf1"
      },
      "execution_count": 28,
      "outputs": []
    },
    {
      "cell_type": "code",
      "source": [
        "x_train, x_test, y_train, y_test = train_test_split(x,y, test_size=0.2, random_state=9)"
      ],
      "metadata": {
        "id": "DaC0uA4JkSYN"
      },
      "execution_count": 29,
      "outputs": []
    },
    {
      "cell_type": "code",
      "source": [
        "model = ExtraTreesClassifier(n_estimators=124,random_state=9)\n",
        "model.fit(x_train,y_train)"
      ],
      "metadata": {
        "colab": {
          "base_uri": "https://localhost:8080/"
        },
        "id": "SmNfT6BwkT1_",
        "outputId": "dc478c67-cb0c-49b6-f5c3-c373b75a9702"
      },
      "execution_count": 36,
      "outputs": [
        {
          "output_type": "execute_result",
          "data": {
            "text/plain": [
              "ExtraTreesClassifier(n_estimators=124, random_state=9)"
            ]
          },
          "metadata": {},
          "execution_count": 36
        }
      ]
    },
    {
      "cell_type": "code",
      "source": [
        "y_pred = model.predict(x_test)"
      ],
      "metadata": {
        "id": "NT31W0vgkbU7"
      },
      "execution_count": 37,
      "outputs": []
    },
    {
      "cell_type": "code",
      "source": [
        "acc_per = accuracy_score(y_test,y_pred)\n",
        "print('Model Accuracy : '+ str(round(acc_per*100,4)))"
      ],
      "metadata": {
        "colab": {
          "base_uri": "https://localhost:8080/"
        },
        "id": "561aTZYVkcI3",
        "outputId": "9cb8ed53-a963-4456-f300-c5d0c31b886e"
      },
      "execution_count": 38,
      "outputs": [
        {
          "output_type": "stream",
          "name": "stdout",
          "text": [
            "Model Accuracy : 72.0804\n"
          ]
        }
      ]
    },
    {
      "cell_type": "code",
      "source": [
        "print(type(x_test))"
      ],
      "metadata": {
        "colab": {
          "base_uri": "https://localhost:8080/"
        },
        "id": "YQsX3F2YkfND",
        "outputId": "a565e10b-276e-45d3-f9a3-6b765ed09df3"
      },
      "execution_count": 33,
      "outputs": [
        {
          "output_type": "stream",
          "name": "stdout",
          "text": [
            "<class 'pandas.core.frame.DataFrame'>\n"
          ]
        }
      ]
    },
    {
      "cell_type": "code",
      "source": [
        "new_data=[[7.4,0.34,0.42,1.2,0.063,14,191,0.9917,3.12,0.53,11.3],\n",
        "[6.5,0.31,0.14,7.5,0.044,34,133,0.9935,3.22,0.5,9.5],\n",
        "[6.2,0.67,0.48,1.2,0.029,29,75,0.9592,3.33,0.39,12.8],\n",
        "[6.6,0.33,0.38,2.9,0.038,19,102,0.9912,3.17,0.35,11],\n",
        "[6.4,0.27,0.42,1.7,0.049,41,122,0.993,3.47,0.48,10.5],\n",
        "[7.8,0.66,0.14,1.5,0.074,25,168,0.9937,3.05,0.51,9.3],\n",
        "[6.8,0.27,0.41,1.3,0.052,16,142,0.9951,3.42,0.47],\n",
        "[8.2,1.33,0,1.7,0.081,3,12,0.9964,3.53,0.49,10.9],\n",
        "[8.1,1.33,0,1.8,0.082,3,12,0.9934,3.57,0.48,10.9],\n",
        "[8,0.59,0.16,1.8,0.065,3,16,0.9762,3.42,0.92,10.5],\n",
        "[6.1,0.38,0.15,1.8,0.072,6,19,0.9957,3.42,0.57,9.4],\n",
        "[8,0.745,0.56,2,0.118,30,134,0.9978,3.24,0.66,9.4],\n",
        "[5.6,0.5,0.09,2.3,0.049,17,99,0.9957,3.63,0.63,13],\n",
        "[5.6,0.5,0.09,2.3,0.049,18,99,0.9937,3.63,0.63,13]\n",
        "]\n",
        "col=['fixed acidity','volatile acidity','citric acid','residual sugar','chlorides','free sulfur dioxide','total sulfur dioxide','density','pH','sulphates','alcohol']\n",
        "New = pd.DataFrame(new_data, columns =col) \n",
        "New = New.dropna(how='any',axis=0) "
      ],
      "metadata": {
        "id": "8gN42kVbk9iH"
      },
      "execution_count": 71,
      "outputs": []
    },
    {
      "cell_type": "code",
      "source": [
        "new_pred=model.predict(New)"
      ],
      "metadata": {
        "id": "pv4ZFqXAl8Y4"
      },
      "execution_count": 72,
      "outputs": []
    },
    {
      "cell_type": "code",
      "source": [
        "# df_predict3 = pd.DataFrame({'New Data ':New,'Predicted values': new_pred})\n",
        "df_pred=New\n",
        "df_pred['New Prediction']=new_pred\n",
        "df_pred.head(10)"
      ],
      "metadata": {
        "colab": {
          "base_uri": "https://localhost:8080/",
          "height": 462
        },
        "id": "lYQc8JTEmHs9",
        "outputId": "27f2ed04-429e-4da6-8685-faa122873621"
      },
      "execution_count": 73,
      "outputs": [
        {
          "output_type": "execute_result",
          "data": {
            "text/plain": [
              "    fixed acidity  volatile acidity  citric acid  residual sugar  chlorides  \\\n",
              "0             7.4              0.34         0.42             1.2      0.063   \n",
              "1             6.5              0.31         0.14             7.5      0.044   \n",
              "2             6.2              0.67         0.48             1.2      0.029   \n",
              "3             6.6              0.33         0.38             2.9      0.038   \n",
              "4             6.4              0.27         0.42             1.7      0.049   \n",
              "5             7.8              0.66         0.14             1.5      0.074   \n",
              "7             8.2              1.33         0.00             1.7      0.081   \n",
              "8             8.1              1.33         0.00             1.8      0.082   \n",
              "9             8.0              0.59         0.16             1.8      0.065   \n",
              "10            6.1              0.38         0.15             1.8      0.072   \n",
              "\n",
              "    free sulfur dioxide  total sulfur dioxide  density    pH  sulphates  \\\n",
              "0                    14                   191   0.9917  3.12       0.53   \n",
              "1                    34                   133   0.9935  3.22       0.50   \n",
              "2                    29                    75   0.9592  3.33       0.39   \n",
              "3                    19                   102   0.9912  3.17       0.35   \n",
              "4                    41                   122   0.9930  3.47       0.48   \n",
              "5                    25                   168   0.9937  3.05       0.51   \n",
              "7                     3                    12   0.9964  3.53       0.49   \n",
              "8                     3                    12   0.9934  3.57       0.48   \n",
              "9                     3                    16   0.9762  3.42       0.92   \n",
              "10                    6                    19   0.9957  3.42       0.57   \n",
              "\n",
              "    alcohol  New Prediction  \n",
              "0      11.3               6  \n",
              "1       9.5               5  \n",
              "2      12.8               8  \n",
              "3      11.0               7  \n",
              "4      10.5               6  \n",
              "5       9.3               5  \n",
              "7      10.9               5  \n",
              "8      10.9               5  \n",
              "9      10.5               7  \n",
              "10      9.4               5  "
            ],
            "text/html": [
              "\n",
              "  <div id=\"df-eb1336ef-bcc8-4c2a-bdd4-58c093af3fec\">\n",
              "    <div class=\"colab-df-container\">\n",
              "      <div>\n",
              "<style scoped>\n",
              "    .dataframe tbody tr th:only-of-type {\n",
              "        vertical-align: middle;\n",
              "    }\n",
              "\n",
              "    .dataframe tbody tr th {\n",
              "        vertical-align: top;\n",
              "    }\n",
              "\n",
              "    .dataframe thead th {\n",
              "        text-align: right;\n",
              "    }\n",
              "</style>\n",
              "<table border=\"1\" class=\"dataframe\">\n",
              "  <thead>\n",
              "    <tr style=\"text-align: right;\">\n",
              "      <th></th>\n",
              "      <th>fixed acidity</th>\n",
              "      <th>volatile acidity</th>\n",
              "      <th>citric acid</th>\n",
              "      <th>residual sugar</th>\n",
              "      <th>chlorides</th>\n",
              "      <th>free sulfur dioxide</th>\n",
              "      <th>total sulfur dioxide</th>\n",
              "      <th>density</th>\n",
              "      <th>pH</th>\n",
              "      <th>sulphates</th>\n",
              "      <th>alcohol</th>\n",
              "      <th>New Prediction</th>\n",
              "    </tr>\n",
              "  </thead>\n",
              "  <tbody>\n",
              "    <tr>\n",
              "      <th>0</th>\n",
              "      <td>7.4</td>\n",
              "      <td>0.34</td>\n",
              "      <td>0.42</td>\n",
              "      <td>1.2</td>\n",
              "      <td>0.063</td>\n",
              "      <td>14</td>\n",
              "      <td>191</td>\n",
              "      <td>0.9917</td>\n",
              "      <td>3.12</td>\n",
              "      <td>0.53</td>\n",
              "      <td>11.3</td>\n",
              "      <td>6</td>\n",
              "    </tr>\n",
              "    <tr>\n",
              "      <th>1</th>\n",
              "      <td>6.5</td>\n",
              "      <td>0.31</td>\n",
              "      <td>0.14</td>\n",
              "      <td>7.5</td>\n",
              "      <td>0.044</td>\n",
              "      <td>34</td>\n",
              "      <td>133</td>\n",
              "      <td>0.9935</td>\n",
              "      <td>3.22</td>\n",
              "      <td>0.50</td>\n",
              "      <td>9.5</td>\n",
              "      <td>5</td>\n",
              "    </tr>\n",
              "    <tr>\n",
              "      <th>2</th>\n",
              "      <td>6.2</td>\n",
              "      <td>0.67</td>\n",
              "      <td>0.48</td>\n",
              "      <td>1.2</td>\n",
              "      <td>0.029</td>\n",
              "      <td>29</td>\n",
              "      <td>75</td>\n",
              "      <td>0.9592</td>\n",
              "      <td>3.33</td>\n",
              "      <td>0.39</td>\n",
              "      <td>12.8</td>\n",
              "      <td>8</td>\n",
              "    </tr>\n",
              "    <tr>\n",
              "      <th>3</th>\n",
              "      <td>6.6</td>\n",
              "      <td>0.33</td>\n",
              "      <td>0.38</td>\n",
              "      <td>2.9</td>\n",
              "      <td>0.038</td>\n",
              "      <td>19</td>\n",
              "      <td>102</td>\n",
              "      <td>0.9912</td>\n",
              "      <td>3.17</td>\n",
              "      <td>0.35</td>\n",
              "      <td>11.0</td>\n",
              "      <td>7</td>\n",
              "    </tr>\n",
              "    <tr>\n",
              "      <th>4</th>\n",
              "      <td>6.4</td>\n",
              "      <td>0.27</td>\n",
              "      <td>0.42</td>\n",
              "      <td>1.7</td>\n",
              "      <td>0.049</td>\n",
              "      <td>41</td>\n",
              "      <td>122</td>\n",
              "      <td>0.9930</td>\n",
              "      <td>3.47</td>\n",
              "      <td>0.48</td>\n",
              "      <td>10.5</td>\n",
              "      <td>6</td>\n",
              "    </tr>\n",
              "    <tr>\n",
              "      <th>5</th>\n",
              "      <td>7.8</td>\n",
              "      <td>0.66</td>\n",
              "      <td>0.14</td>\n",
              "      <td>1.5</td>\n",
              "      <td>0.074</td>\n",
              "      <td>25</td>\n",
              "      <td>168</td>\n",
              "      <td>0.9937</td>\n",
              "      <td>3.05</td>\n",
              "      <td>0.51</td>\n",
              "      <td>9.3</td>\n",
              "      <td>5</td>\n",
              "    </tr>\n",
              "    <tr>\n",
              "      <th>7</th>\n",
              "      <td>8.2</td>\n",
              "      <td>1.33</td>\n",
              "      <td>0.00</td>\n",
              "      <td>1.7</td>\n",
              "      <td>0.081</td>\n",
              "      <td>3</td>\n",
              "      <td>12</td>\n",
              "      <td>0.9964</td>\n",
              "      <td>3.53</td>\n",
              "      <td>0.49</td>\n",
              "      <td>10.9</td>\n",
              "      <td>5</td>\n",
              "    </tr>\n",
              "    <tr>\n",
              "      <th>8</th>\n",
              "      <td>8.1</td>\n",
              "      <td>1.33</td>\n",
              "      <td>0.00</td>\n",
              "      <td>1.8</td>\n",
              "      <td>0.082</td>\n",
              "      <td>3</td>\n",
              "      <td>12</td>\n",
              "      <td>0.9934</td>\n",
              "      <td>3.57</td>\n",
              "      <td>0.48</td>\n",
              "      <td>10.9</td>\n",
              "      <td>5</td>\n",
              "    </tr>\n",
              "    <tr>\n",
              "      <th>9</th>\n",
              "      <td>8.0</td>\n",
              "      <td>0.59</td>\n",
              "      <td>0.16</td>\n",
              "      <td>1.8</td>\n",
              "      <td>0.065</td>\n",
              "      <td>3</td>\n",
              "      <td>16</td>\n",
              "      <td>0.9762</td>\n",
              "      <td>3.42</td>\n",
              "      <td>0.92</td>\n",
              "      <td>10.5</td>\n",
              "      <td>7</td>\n",
              "    </tr>\n",
              "    <tr>\n",
              "      <th>10</th>\n",
              "      <td>6.1</td>\n",
              "      <td>0.38</td>\n",
              "      <td>0.15</td>\n",
              "      <td>1.8</td>\n",
              "      <td>0.072</td>\n",
              "      <td>6</td>\n",
              "      <td>19</td>\n",
              "      <td>0.9957</td>\n",
              "      <td>3.42</td>\n",
              "      <td>0.57</td>\n",
              "      <td>9.4</td>\n",
              "      <td>5</td>\n",
              "    </tr>\n",
              "  </tbody>\n",
              "</table>\n",
              "</div>\n",
              "      <button class=\"colab-df-convert\" onclick=\"convertToInteractive('df-eb1336ef-bcc8-4c2a-bdd4-58c093af3fec')\"\n",
              "              title=\"Convert this dataframe to an interactive table.\"\n",
              "              style=\"display:none;\">\n",
              "        \n",
              "  <svg xmlns=\"http://www.w3.org/2000/svg\" height=\"24px\"viewBox=\"0 0 24 24\"\n",
              "       width=\"24px\">\n",
              "    <path d=\"M0 0h24v24H0V0z\" fill=\"none\"/>\n",
              "    <path d=\"M18.56 5.44l.94 2.06.94-2.06 2.06-.94-2.06-.94-.94-2.06-.94 2.06-2.06.94zm-11 1L8.5 8.5l.94-2.06 2.06-.94-2.06-.94L8.5 2.5l-.94 2.06-2.06.94zm10 10l.94 2.06.94-2.06 2.06-.94-2.06-.94-.94-2.06-.94 2.06-2.06.94z\"/><path d=\"M17.41 7.96l-1.37-1.37c-.4-.4-.92-.59-1.43-.59-.52 0-1.04.2-1.43.59L10.3 9.45l-7.72 7.72c-.78.78-.78 2.05 0 2.83L4 21.41c.39.39.9.59 1.41.59.51 0 1.02-.2 1.41-.59l7.78-7.78 2.81-2.81c.8-.78.8-2.07 0-2.86zM5.41 20L4 18.59l7.72-7.72 1.47 1.35L5.41 20z\"/>\n",
              "  </svg>\n",
              "      </button>\n",
              "      \n",
              "  <style>\n",
              "    .colab-df-container {\n",
              "      display:flex;\n",
              "      flex-wrap:wrap;\n",
              "      gap: 12px;\n",
              "    }\n",
              "\n",
              "    .colab-df-convert {\n",
              "      background-color: #E8F0FE;\n",
              "      border: none;\n",
              "      border-radius: 50%;\n",
              "      cursor: pointer;\n",
              "      display: none;\n",
              "      fill: #1967D2;\n",
              "      height: 32px;\n",
              "      padding: 0 0 0 0;\n",
              "      width: 32px;\n",
              "    }\n",
              "\n",
              "    .colab-df-convert:hover {\n",
              "      background-color: #E2EBFA;\n",
              "      box-shadow: 0px 1px 2px rgba(60, 64, 67, 0.3), 0px 1px 3px 1px rgba(60, 64, 67, 0.15);\n",
              "      fill: #174EA6;\n",
              "    }\n",
              "\n",
              "    [theme=dark] .colab-df-convert {\n",
              "      background-color: #3B4455;\n",
              "      fill: #D2E3FC;\n",
              "    }\n",
              "\n",
              "    [theme=dark] .colab-df-convert:hover {\n",
              "      background-color: #434B5C;\n",
              "      box-shadow: 0px 1px 3px 1px rgba(0, 0, 0, 0.15);\n",
              "      filter: drop-shadow(0px 1px 2px rgba(0, 0, 0, 0.3));\n",
              "      fill: #FFFFFF;\n",
              "    }\n",
              "  </style>\n",
              "\n",
              "      <script>\n",
              "        const buttonEl =\n",
              "          document.querySelector('#df-eb1336ef-bcc8-4c2a-bdd4-58c093af3fec button.colab-df-convert');\n",
              "        buttonEl.style.display =\n",
              "          google.colab.kernel.accessAllowed ? 'block' : 'none';\n",
              "\n",
              "        async function convertToInteractive(key) {\n",
              "          const element = document.querySelector('#df-eb1336ef-bcc8-4c2a-bdd4-58c093af3fec');\n",
              "          const dataTable =\n",
              "            await google.colab.kernel.invokeFunction('convertToInteractive',\n",
              "                                                     [key], {});\n",
              "          if (!dataTable) return;\n",
              "\n",
              "          const docLinkHtml = 'Like what you see? Visit the ' +\n",
              "            '<a target=\"_blank\" href=https://colab.research.google.com/notebooks/data_table.ipynb>data table notebook</a>'\n",
              "            + ' to learn more about interactive tables.';\n",
              "          element.innerHTML = '';\n",
              "          dataTable['output_type'] = 'display_data';\n",
              "          await google.colab.output.renderOutput(dataTable, element);\n",
              "          const docLink = document.createElement('div');\n",
              "          docLink.innerHTML = docLinkHtml;\n",
              "          element.appendChild(docLink);\n",
              "        }\n",
              "      </script>\n",
              "    </div>\n",
              "  </div>\n",
              "  "
            ]
          },
          "metadata": {},
          "execution_count": 73
        }
      ]
    },
    {
      "cell_type": "code",
      "source": [
        ""
      ],
      "metadata": {
        "id": "OqigHX7ymeby"
      },
      "execution_count": null,
      "outputs": []
    }
  ]
}